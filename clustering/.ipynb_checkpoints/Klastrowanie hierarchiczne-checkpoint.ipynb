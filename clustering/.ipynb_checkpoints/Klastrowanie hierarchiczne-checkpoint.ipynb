{
 "cells": [
  {
   "cell_type": "code",
   "execution_count": 1,
   "metadata": {
    "collapsed": true
   },
   "outputs": [],
   "source": [
    "%matplotlib inline\n",
    "import numpy  as np\n",
    "import matplotlib.pyplot as plt\n",
    "\n",
    "from scipy.cluster.hierarchy import dendrogram, linkage"
   ]
  },
  {
   "cell_type": "code",
   "execution_count": null,
   "metadata": {
    "collapsed": true
   },
   "outputs": [],
   "source": [
    "def get_data():\n",
    "    D = 2\n",
    "    s = 4\n",
    "    mu1 = np.array([0, 0])\n",
    "    mu2 = np.array([s, s])\n",
    "    mu3 = np.array([0, s])\n",
    "    \n",
    "    N = 900\n",
    "    X = np.zeros((N, D))\n",
    "    \n",
    "    X[:300, :] = np.random.randn(300, D) + mu1\n",
    "    X[300:600, :] = np.random.randn(300, D) + mu2\n",
    "    X[600:, :] = np.random.randn(300, D) + mu3\n",
    "    \n",
    "    Z = linkage(X, 'ward')\n",
    "    print \"Z.shape\", Z.shape\n",
    "    \n",
    "    plt.title(\"Ward\")\n",
    "    dendrogram(Z)\n",
    "    plt.show()"
   ]
  }
 ],
 "metadata": {
  "kernelspec": {
   "display_name": "Python 2",
   "language": "python",
   "name": "python2"
  },
  "language_info": {
   "codemirror_mode": {
    "name": "ipython",
    "version": 2
   },
   "file_extension": ".py",
   "mimetype": "text/x-python",
   "name": "python",
   "nbconvert_exporter": "python",
   "pygments_lexer": "ipython2",
   "version": "2.7.6"
  }
 },
 "nbformat": 4,
 "nbformat_minor": 0
}
