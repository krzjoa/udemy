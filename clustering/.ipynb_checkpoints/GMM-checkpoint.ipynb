{
 "cells": [
  {
   "cell_type": "markdown",
   "metadata": {},
   "source": [
    "# Gaussian Mixture Model"
   ]
  },
  {
   "cell_type": "code",
   "execution_count": 1,
   "metadata": {
    "collapsed": false
   },
   "outputs": [
    {
     "ename": "SyntaxError",
     "evalue": "invalid syntax (<ipython-input-1-990ef8c2a2eb>, line 6)",
     "output_type": "error",
     "traceback": [
      "\u001b[1;36m  File \u001b[1;32m\"<ipython-input-1-990ef8c2a2eb>\"\u001b[1;36m, line \u001b[1;32m6\u001b[0m\n\u001b[1;33m    class GMM(K, max_iter=100):\u001b[0m\n\u001b[1;37m                         ^\u001b[0m\n\u001b[1;31mSyntaxError\u001b[0m\u001b[1;31m:\u001b[0m invalid syntax\n"
     ]
    }
   ],
   "source": [
    "import numpy as np\n",
    "import matplotlib.pyplot as plt\n",
    "from scipy.stats import multivariate_normal\n",
    "\n",
    "\n",
    "class GMM(object):\n",
    "    \n",
    "    def __init__(self, K, max_iter=100):\n",
    "        self.N = None\n",
    "        self.D = None\n",
    "        \n",
    "        self.max_iter = max_iter\n",
    "        \n",
    "        # Średnie - wartości oczekiwane Gaussów K Gaussów x D ficzerów\n",
    "        self.M = np.zeros((K, D))\n",
    "        \n",
    "        # Responsibilities\n",
    "        self.R = np.zeros((N, K))\n",
    "                      \n",
    "        # Macierze kowariancji liczba Gaussów x liczba ficzerów x liczba ficzerów\n",
    "        self.C = np.zeros((K, D, D)) \n",
    "        \n",
    "        # Pi\n",
    "        self.pi = np.ones(K) / K\n",
    "        \n",
    "        for k in xrange(K):\n",
    "            M[k] = X[np.random.choice(N)] # Jako średnie wybieramy losowy punkt\n",
    "            C[k] = np.diag(np.ones(D)) # Wstawiamy wszędzie macierz jednostkową\n",
    "\n",
    "    \n",
    "    def fit(X):\n",
    "        self.N, self.D = X.shape\n",
    "        \n",
    "                    \n",
    "        costs = np.zeros(max_iter) # Wektor kosztów dla iteracji\n",
    "        weighted_pdfs = np.zeros((N, K))\n",
    "        \n",
    "        for i in xrange(max_iter):\n",
    "            for k in xrange(K):\n",
    "                for \n",
    "    \n",
    "        \n",
    "\n",
    "\n",
    "        "
   ]
  },
  {
   "cell_type": "code",
   "execution_count": 2,
   "metadata": {
    "collapsed": true
   },
   "outputs": [],
   "source": [
    "def main():\n",
    "    D = 2\n",
    "    s = 4\n",
    "    mu1 = np.array([0, 0])\n",
    "    mu2 = np.array([s, s])\n",
    "    mu3 = np.array([0, s])\n",
    "    \n",
    "    N = 2000\n",
    "    X = np.zeros((N, D))\n",
    "    X[:1200, :] = np.random.randn(1200, D)*2 + mu1\n",
    "    X[1200:1800, :] = np.random.randn(600, D) + mu2\n",
    "    X[1800:, :] = np.random.randn(200, D)*0.5 + mu3\n",
    "    \n",
    "    plt.scatter(X[:, 0], X[:, 1])\n",
    "    plt.show()\n",
    "    \n",
    "    K = 3\n",
    "    \n",
    "    gmm = GMM(K)"
   ]
  },
  {
   "cell_type": "code",
   "execution_count": null,
   "metadata": {
    "collapsed": true
   },
   "outputs": [],
   "source": []
  }
 ],
 "metadata": {
  "kernelspec": {
   "display_name": "Python 2",
   "language": "python",
   "name": "python2"
  },
  "language_info": {
   "codemirror_mode": {
    "name": "ipython",
    "version": 2
   },
   "file_extension": ".py",
   "mimetype": "text/x-python",
   "name": "python",
   "nbconvert_exporter": "python",
   "pygments_lexer": "ipython2",
   "version": "2.7.6"
  }
 },
 "nbformat": 4,
 "nbformat_minor": 0
}
